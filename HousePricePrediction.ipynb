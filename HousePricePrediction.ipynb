{
 "cells": [
  {
   "cell_type": "markdown",
   "id": "3b34d7a6",
   "metadata": {},
   "source": [
    "# House Price Prediction Regression Project"
   ]
  },
  {
   "cell_type": "markdown",
   "id": "49f591ce",
   "metadata": {},
   "source": [
    "### Importing the Dependencies"
   ]
  },
  {
   "cell_type": "code",
   "execution_count": 1,
   "id": "0cab5b54",
   "metadata": {},
   "outputs": [],
   "source": [
    "import numpy as np\n",
    "import pandas as pd\n",
    "\n",
    "from sklearn import metrics\n",
    "\n",
    "import seaborn as sns\n",
    "import matplotlib.pyplot as plt\n",
    "%matplotlib inline"
   ]
  },
  {
   "cell_type": "markdown",
   "id": "417038e0",
   "metadata": {},
   "source": [
    "### Data Collection"
   ]
  },
  {
   "cell_type": "code",
   "execution_count": 2,
   "id": "d1beebd4",
   "metadata": {},
   "outputs": [
    {
     "data": {
      "text/html": [
       "<div>\n",
       "<style scoped>\n",
       "    .dataframe tbody tr th:only-of-type {\n",
       "        vertical-align: middle;\n",
       "    }\n",
       "\n",
       "    .dataframe tbody tr th {\n",
       "        vertical-align: top;\n",
       "    }\n",
       "\n",
       "    .dataframe thead th {\n",
       "        text-align: right;\n",
       "    }\n",
       "</style>\n",
       "<table border=\"1\" class=\"dataframe\">\n",
       "  <thead>\n",
       "    <tr style=\"text-align: right;\">\n",
       "      <th></th>\n",
       "      <th>date</th>\n",
       "      <th>price</th>\n",
       "      <th>bedrooms</th>\n",
       "      <th>bathrooms</th>\n",
       "      <th>sqft_living</th>\n",
       "      <th>sqft_lot</th>\n",
       "      <th>floors</th>\n",
       "      <th>waterfront</th>\n",
       "      <th>view</th>\n",
       "      <th>condition</th>\n",
       "      <th>sqft_above</th>\n",
       "      <th>sqft_basement</th>\n",
       "      <th>yr_built</th>\n",
       "      <th>yr_renovated</th>\n",
       "      <th>street</th>\n",
       "      <th>city</th>\n",
       "      <th>statezip</th>\n",
       "      <th>country</th>\n",
       "    </tr>\n",
       "  </thead>\n",
       "  <tbody>\n",
       "    <tr>\n",
       "      <th>0</th>\n",
       "      <td>2014-05-02 00:00:00</td>\n",
       "      <td>313000.0</td>\n",
       "      <td>3.0</td>\n",
       "      <td>1.50</td>\n",
       "      <td>1340</td>\n",
       "      <td>7912</td>\n",
       "      <td>1.5</td>\n",
       "      <td>0</td>\n",
       "      <td>0</td>\n",
       "      <td>3</td>\n",
       "      <td>1340</td>\n",
       "      <td>0</td>\n",
       "      <td>1955</td>\n",
       "      <td>2005</td>\n",
       "      <td>18810 Densmore Ave N</td>\n",
       "      <td>Shoreline</td>\n",
       "      <td>WA 98133</td>\n",
       "      <td>USA</td>\n",
       "    </tr>\n",
       "    <tr>\n",
       "      <th>1</th>\n",
       "      <td>2014-05-02 00:00:00</td>\n",
       "      <td>2384000.0</td>\n",
       "      <td>5.0</td>\n",
       "      <td>2.50</td>\n",
       "      <td>3650</td>\n",
       "      <td>9050</td>\n",
       "      <td>2.0</td>\n",
       "      <td>0</td>\n",
       "      <td>4</td>\n",
       "      <td>5</td>\n",
       "      <td>3370</td>\n",
       "      <td>280</td>\n",
       "      <td>1921</td>\n",
       "      <td>0</td>\n",
       "      <td>709 W Blaine St</td>\n",
       "      <td>Seattle</td>\n",
       "      <td>WA 98119</td>\n",
       "      <td>USA</td>\n",
       "    </tr>\n",
       "    <tr>\n",
       "      <th>2</th>\n",
       "      <td>2014-05-02 00:00:00</td>\n",
       "      <td>342000.0</td>\n",
       "      <td>3.0</td>\n",
       "      <td>2.00</td>\n",
       "      <td>1930</td>\n",
       "      <td>11947</td>\n",
       "      <td>1.0</td>\n",
       "      <td>0</td>\n",
       "      <td>0</td>\n",
       "      <td>4</td>\n",
       "      <td>1930</td>\n",
       "      <td>0</td>\n",
       "      <td>1966</td>\n",
       "      <td>0</td>\n",
       "      <td>26206-26214 143rd Ave SE</td>\n",
       "      <td>Kent</td>\n",
       "      <td>WA 98042</td>\n",
       "      <td>USA</td>\n",
       "    </tr>\n",
       "    <tr>\n",
       "      <th>3</th>\n",
       "      <td>2014-05-02 00:00:00</td>\n",
       "      <td>420000.0</td>\n",
       "      <td>3.0</td>\n",
       "      <td>2.25</td>\n",
       "      <td>2000</td>\n",
       "      <td>8030</td>\n",
       "      <td>1.0</td>\n",
       "      <td>0</td>\n",
       "      <td>0</td>\n",
       "      <td>4</td>\n",
       "      <td>1000</td>\n",
       "      <td>1000</td>\n",
       "      <td>1963</td>\n",
       "      <td>0</td>\n",
       "      <td>857 170th Pl NE</td>\n",
       "      <td>Bellevue</td>\n",
       "      <td>WA 98008</td>\n",
       "      <td>USA</td>\n",
       "    </tr>\n",
       "    <tr>\n",
       "      <th>4</th>\n",
       "      <td>2014-05-02 00:00:00</td>\n",
       "      <td>550000.0</td>\n",
       "      <td>4.0</td>\n",
       "      <td>2.50</td>\n",
       "      <td>1940</td>\n",
       "      <td>10500</td>\n",
       "      <td>1.0</td>\n",
       "      <td>0</td>\n",
       "      <td>0</td>\n",
       "      <td>4</td>\n",
       "      <td>1140</td>\n",
       "      <td>800</td>\n",
       "      <td>1976</td>\n",
       "      <td>1992</td>\n",
       "      <td>9105 170th Ave NE</td>\n",
       "      <td>Redmond</td>\n",
       "      <td>WA 98052</td>\n",
       "      <td>USA</td>\n",
       "    </tr>\n",
       "  </tbody>\n",
       "</table>\n",
       "</div>"
      ],
      "text/plain": [
       "                  date      price  bedrooms  bathrooms  sqft_living  sqft_lot  \\\n",
       "0  2014-05-02 00:00:00   313000.0       3.0       1.50         1340      7912   \n",
       "1  2014-05-02 00:00:00  2384000.0       5.0       2.50         3650      9050   \n",
       "2  2014-05-02 00:00:00   342000.0       3.0       2.00         1930     11947   \n",
       "3  2014-05-02 00:00:00   420000.0       3.0       2.25         2000      8030   \n",
       "4  2014-05-02 00:00:00   550000.0       4.0       2.50         1940     10500   \n",
       "\n",
       "   floors  waterfront  view  condition  sqft_above  sqft_basement  yr_built  \\\n",
       "0     1.5           0     0          3        1340              0      1955   \n",
       "1     2.0           0     4          5        3370            280      1921   \n",
       "2     1.0           0     0          4        1930              0      1966   \n",
       "3     1.0           0     0          4        1000           1000      1963   \n",
       "4     1.0           0     0          4        1140            800      1976   \n",
       "\n",
       "   yr_renovated                    street       city  statezip country  \n",
       "0          2005      18810 Densmore Ave N  Shoreline  WA 98133     USA  \n",
       "1             0           709 W Blaine St    Seattle  WA 98119     USA  \n",
       "2             0  26206-26214 143rd Ave SE       Kent  WA 98042     USA  \n",
       "3             0           857 170th Pl NE   Bellevue  WA 98008     USA  \n",
       "4          1992         9105 170th Ave NE    Redmond  WA 98052     USA  "
      ]
     },
     "execution_count": 2,
     "metadata": {},
     "output_type": "execute_result"
    }
   ],
   "source": [
    "# Loading the data from csv file to pandas dataframe\n",
    "house_price = pd.read_csv('house_data.csv')\n",
    "\n",
    "# Inspecting the first 5 rows of the dataframe\n",
    "house_price.head()"
   ]
  },
  {
   "cell_type": "code",
   "execution_count": 3,
   "id": "cfbaaff2",
   "metadata": {},
   "outputs": [
    {
     "data": {
      "text/plain": [
       "(4600, 18)"
      ]
     },
     "execution_count": 3,
     "metadata": {},
     "output_type": "execute_result"
    }
   ],
   "source": [
    "# Checking the number of rows and columns\n",
    "house_price.shape"
   ]
  },
  {
   "cell_type": "markdown",
   "id": "ea161422",
   "metadata": {},
   "source": [
    "### Data Cleaning and Preprocessing"
   ]
  },
  {
   "cell_type": "code",
   "execution_count": 4,
   "id": "fb0cf8a5",
   "metadata": {},
   "outputs": [
    {
     "name": "stdout",
     "output_type": "stream",
     "text": [
      "<class 'pandas.core.frame.DataFrame'>\n",
      "RangeIndex: 4600 entries, 0 to 4599\n",
      "Data columns (total 18 columns):\n",
      " #   Column         Non-Null Count  Dtype  \n",
      "---  ------         --------------  -----  \n",
      " 0   date           4600 non-null   object \n",
      " 1   price          4600 non-null   float64\n",
      " 2   bedrooms       4600 non-null   float64\n",
      " 3   bathrooms      4600 non-null   float64\n",
      " 4   sqft_living    4600 non-null   int64  \n",
      " 5   sqft_lot       4600 non-null   int64  \n",
      " 6   floors         4600 non-null   float64\n",
      " 7   waterfront     4600 non-null   int64  \n",
      " 8   view           4600 non-null   int64  \n",
      " 9   condition      4600 non-null   int64  \n",
      " 10  sqft_above     4600 non-null   int64  \n",
      " 11  sqft_basement  4600 non-null   int64  \n",
      " 12  yr_built       4600 non-null   int64  \n",
      " 13  yr_renovated   4600 non-null   int64  \n",
      " 14  street         4600 non-null   object \n",
      " 15  city           4600 non-null   object \n",
      " 16  statezip       4600 non-null   object \n",
      " 17  country        4600 non-null   object \n",
      "dtypes: float64(4), int64(9), object(5)\n",
      "memory usage: 647.0+ KB\n"
     ]
    }
   ],
   "source": [
    "# Getting some information about the dataset\n",
    "house_price.info()"
   ]
  },
  {
   "cell_type": "code",
   "execution_count": 5,
   "id": "eb165323",
   "metadata": {
    "scrolled": true
   },
   "outputs": [
    {
     "data": {
      "text/html": [
       "<div>\n",
       "<style scoped>\n",
       "    .dataframe tbody tr th:only-of-type {\n",
       "        vertical-align: middle;\n",
       "    }\n",
       "\n",
       "    .dataframe tbody tr th {\n",
       "        vertical-align: top;\n",
       "    }\n",
       "\n",
       "    .dataframe thead th {\n",
       "        text-align: right;\n",
       "    }\n",
       "</style>\n",
       "<table border=\"1\" class=\"dataframe\">\n",
       "  <thead>\n",
       "    <tr style=\"text-align: right;\">\n",
       "      <th></th>\n",
       "      <th>price</th>\n",
       "      <th>bedrooms</th>\n",
       "      <th>bathrooms</th>\n",
       "      <th>sqft_living</th>\n",
       "      <th>sqft_lot</th>\n",
       "      <th>floors</th>\n",
       "      <th>waterfront</th>\n",
       "      <th>view</th>\n",
       "      <th>condition</th>\n",
       "      <th>sqft_above</th>\n",
       "      <th>sqft_basement</th>\n",
       "      <th>yr_built</th>\n",
       "      <th>yr_renovated</th>\n",
       "    </tr>\n",
       "  </thead>\n",
       "  <tbody>\n",
       "    <tr>\n",
       "      <th>count</th>\n",
       "      <td>4.600000e+03</td>\n",
       "      <td>4600.000000</td>\n",
       "      <td>4600.000000</td>\n",
       "      <td>4600.000000</td>\n",
       "      <td>4.600000e+03</td>\n",
       "      <td>4600.000000</td>\n",
       "      <td>4600.000000</td>\n",
       "      <td>4600.000000</td>\n",
       "      <td>4600.000000</td>\n",
       "      <td>4600.000000</td>\n",
       "      <td>4600.000000</td>\n",
       "      <td>4600.000000</td>\n",
       "      <td>4600.000000</td>\n",
       "    </tr>\n",
       "    <tr>\n",
       "      <th>mean</th>\n",
       "      <td>5.519630e+05</td>\n",
       "      <td>3.400870</td>\n",
       "      <td>2.160815</td>\n",
       "      <td>2139.346957</td>\n",
       "      <td>1.485252e+04</td>\n",
       "      <td>1.512065</td>\n",
       "      <td>0.007174</td>\n",
       "      <td>0.240652</td>\n",
       "      <td>3.451739</td>\n",
       "      <td>1827.265435</td>\n",
       "      <td>312.081522</td>\n",
       "      <td>1970.786304</td>\n",
       "      <td>808.608261</td>\n",
       "    </tr>\n",
       "    <tr>\n",
       "      <th>std</th>\n",
       "      <td>5.638347e+05</td>\n",
       "      <td>0.908848</td>\n",
       "      <td>0.783781</td>\n",
       "      <td>963.206916</td>\n",
       "      <td>3.588444e+04</td>\n",
       "      <td>0.538288</td>\n",
       "      <td>0.084404</td>\n",
       "      <td>0.778405</td>\n",
       "      <td>0.677230</td>\n",
       "      <td>862.168977</td>\n",
       "      <td>464.137228</td>\n",
       "      <td>29.731848</td>\n",
       "      <td>979.414536</td>\n",
       "    </tr>\n",
       "    <tr>\n",
       "      <th>min</th>\n",
       "      <td>0.000000e+00</td>\n",
       "      <td>0.000000</td>\n",
       "      <td>0.000000</td>\n",
       "      <td>370.000000</td>\n",
       "      <td>6.380000e+02</td>\n",
       "      <td>1.000000</td>\n",
       "      <td>0.000000</td>\n",
       "      <td>0.000000</td>\n",
       "      <td>1.000000</td>\n",
       "      <td>370.000000</td>\n",
       "      <td>0.000000</td>\n",
       "      <td>1900.000000</td>\n",
       "      <td>0.000000</td>\n",
       "    </tr>\n",
       "    <tr>\n",
       "      <th>25%</th>\n",
       "      <td>3.228750e+05</td>\n",
       "      <td>3.000000</td>\n",
       "      <td>1.750000</td>\n",
       "      <td>1460.000000</td>\n",
       "      <td>5.000750e+03</td>\n",
       "      <td>1.000000</td>\n",
       "      <td>0.000000</td>\n",
       "      <td>0.000000</td>\n",
       "      <td>3.000000</td>\n",
       "      <td>1190.000000</td>\n",
       "      <td>0.000000</td>\n",
       "      <td>1951.000000</td>\n",
       "      <td>0.000000</td>\n",
       "    </tr>\n",
       "    <tr>\n",
       "      <th>50%</th>\n",
       "      <td>4.609435e+05</td>\n",
       "      <td>3.000000</td>\n",
       "      <td>2.250000</td>\n",
       "      <td>1980.000000</td>\n",
       "      <td>7.683000e+03</td>\n",
       "      <td>1.500000</td>\n",
       "      <td>0.000000</td>\n",
       "      <td>0.000000</td>\n",
       "      <td>3.000000</td>\n",
       "      <td>1590.000000</td>\n",
       "      <td>0.000000</td>\n",
       "      <td>1976.000000</td>\n",
       "      <td>0.000000</td>\n",
       "    </tr>\n",
       "    <tr>\n",
       "      <th>75%</th>\n",
       "      <td>6.549625e+05</td>\n",
       "      <td>4.000000</td>\n",
       "      <td>2.500000</td>\n",
       "      <td>2620.000000</td>\n",
       "      <td>1.100125e+04</td>\n",
       "      <td>2.000000</td>\n",
       "      <td>0.000000</td>\n",
       "      <td>0.000000</td>\n",
       "      <td>4.000000</td>\n",
       "      <td>2300.000000</td>\n",
       "      <td>610.000000</td>\n",
       "      <td>1997.000000</td>\n",
       "      <td>1999.000000</td>\n",
       "    </tr>\n",
       "    <tr>\n",
       "      <th>max</th>\n",
       "      <td>2.659000e+07</td>\n",
       "      <td>9.000000</td>\n",
       "      <td>8.000000</td>\n",
       "      <td>13540.000000</td>\n",
       "      <td>1.074218e+06</td>\n",
       "      <td>3.500000</td>\n",
       "      <td>1.000000</td>\n",
       "      <td>4.000000</td>\n",
       "      <td>5.000000</td>\n",
       "      <td>9410.000000</td>\n",
       "      <td>4820.000000</td>\n",
       "      <td>2014.000000</td>\n",
       "      <td>2014.000000</td>\n",
       "    </tr>\n",
       "  </tbody>\n",
       "</table>\n",
       "</div>"
      ],
      "text/plain": [
       "              price     bedrooms    bathrooms   sqft_living      sqft_lot  \\\n",
       "count  4.600000e+03  4600.000000  4600.000000   4600.000000  4.600000e+03   \n",
       "mean   5.519630e+05     3.400870     2.160815   2139.346957  1.485252e+04   \n",
       "std    5.638347e+05     0.908848     0.783781    963.206916  3.588444e+04   \n",
       "min    0.000000e+00     0.000000     0.000000    370.000000  6.380000e+02   \n",
       "25%    3.228750e+05     3.000000     1.750000   1460.000000  5.000750e+03   \n",
       "50%    4.609435e+05     3.000000     2.250000   1980.000000  7.683000e+03   \n",
       "75%    6.549625e+05     4.000000     2.500000   2620.000000  1.100125e+04   \n",
       "max    2.659000e+07     9.000000     8.000000  13540.000000  1.074218e+06   \n",
       "\n",
       "            floors   waterfront         view    condition   sqft_above  \\\n",
       "count  4600.000000  4600.000000  4600.000000  4600.000000  4600.000000   \n",
       "mean      1.512065     0.007174     0.240652     3.451739  1827.265435   \n",
       "std       0.538288     0.084404     0.778405     0.677230   862.168977   \n",
       "min       1.000000     0.000000     0.000000     1.000000   370.000000   \n",
       "25%       1.000000     0.000000     0.000000     3.000000  1190.000000   \n",
       "50%       1.500000     0.000000     0.000000     3.000000  1590.000000   \n",
       "75%       2.000000     0.000000     0.000000     4.000000  2300.000000   \n",
       "max       3.500000     1.000000     4.000000     5.000000  9410.000000   \n",
       "\n",
       "       sqft_basement     yr_built  yr_renovated  \n",
       "count    4600.000000  4600.000000   4600.000000  \n",
       "mean      312.081522  1970.786304    808.608261  \n",
       "std       464.137228    29.731848    979.414536  \n",
       "min         0.000000  1900.000000      0.000000  \n",
       "25%         0.000000  1951.000000      0.000000  \n",
       "50%         0.000000  1976.000000      0.000000  \n",
       "75%       610.000000  1997.000000   1999.000000  \n",
       "max      4820.000000  2014.000000   2014.000000  "
      ]
     },
     "execution_count": 5,
     "metadata": {},
     "output_type": "execute_result"
    }
   ],
   "source": [
    "# Getting statistical data of the dataset\n",
    "house_price.describe()"
   ]
  },
  {
   "cell_type": "code",
   "execution_count": 6,
   "id": "4922c6d0",
   "metadata": {},
   "outputs": [
    {
     "data": {
      "text/plain": [
       "(4600, 18)"
      ]
     },
     "execution_count": 6,
     "metadata": {},
     "output_type": "execute_result"
    }
   ],
   "source": [
    "# Checking for duplicate values\n",
    "house_price.drop_duplicates()\n",
    "house_price.shape"
   ]
  },
  {
   "cell_type": "markdown",
   "id": "af63c1f8",
   "metadata": {},
   "source": [
    "we don't have any duplicate values"
   ]
  },
  {
   "cell_type": "code",
   "execution_count": 7,
   "id": "5bebbe8a",
   "metadata": {},
   "outputs": [
    {
     "name": "stdout",
     "output_type": "stream",
     "text": [
      "date : 0\n",
      "price : 49\n",
      "bedrooms : 2\n",
      "bathrooms : 2\n",
      "sqft_living : 0\n",
      "sqft_lot : 0\n",
      "floors : 0\n",
      "sqft_above : 0\n",
      "yr_built : 0\n",
      "street : 0\n",
      "city : 0\n",
      "statezip : 0\n",
      "country : 0\n"
     ]
    }
   ],
   "source": [
    "# Finding the number of 0's in columns\n",
    "cols = ['date', 'price', 'bedrooms', 'bathrooms', 'sqft_living', 'sqft_lot','floors', 'sqft_above',\n",
    "        'yr_built', 'street', 'city','statezip', 'country']\n",
    "\n",
    "for col in cols:\n",
    "    value_0 = (house_price[col] == 0).sum()\n",
    "    print(col,':',value_0)"
   ]
  },
  {
   "cell_type": "code",
   "execution_count": 8,
   "id": "53ae1045",
   "metadata": {},
   "outputs": [],
   "source": [
    "# Droping zeros value of price column\n",
    "house_price = house_price[~(house_price['price']==0)]"
   ]
  },
  {
   "cell_type": "code",
   "execution_count": 9,
   "id": "6c97bc8b",
   "metadata": {},
   "outputs": [],
   "source": [
    "# Droping values having less than 1 of bedrooms column\n",
    "house_price = house_price[~(house_price['bedrooms']<1)]"
   ]
  },
  {
   "cell_type": "code",
   "execution_count": 10,
   "id": "ce5d0c18",
   "metadata": {},
   "outputs": [],
   "source": [
    "# Droping zeros value of bathrooms column\n",
    "house_price = house_price[~(house_price['bathrooms']==0)]"
   ]
  },
  {
   "cell_type": "code",
   "execution_count": 11,
   "id": "c5548c34",
   "metadata": {},
   "outputs": [
    {
     "name": "stdout",
     "output_type": "stream",
     "text": [
      "date : 0\n",
      "price : 0\n",
      "bedrooms : 0\n",
      "bathrooms : 0\n",
      "sqft_living : 0\n",
      "sqft_lot : 0\n",
      "floors : 0\n",
      "sqft_above : 0\n",
      "yr_built : 0\n",
      "street : 0\n",
      "city : 0\n",
      "statezip : 0\n",
      "country : 0\n"
     ]
    }
   ],
   "source": [
    "# checking the number of 0's in columns\n",
    "cols = ['date', 'price', 'bedrooms', 'bathrooms', 'sqft_living', 'sqft_lot','floors', 'sqft_above',\n",
    "        'yr_built', 'street', 'city','statezip', 'country']\n",
    "\n",
    "for col in cols:\n",
    "    value_0 = (house_price[col] == 0).sum()\n",
    "    print(col,':',value_0)"
   ]
  },
  {
   "cell_type": "markdown",
   "id": "b545aa4c",
   "metadata": {},
   "source": [
    "Now, we got the columns which don't have any zero values"
   ]
  },
  {
   "cell_type": "markdown",
   "id": "42765268",
   "metadata": {},
   "source": [
    "### Handling Missing Values"
   ]
  },
  {
   "cell_type": "code",
   "execution_count": 12,
   "id": "79ec8e83",
   "metadata": {},
   "outputs": [
    {
     "data": {
      "text/plain": [
       "date             0\n",
       "price            0\n",
       "bedrooms         0\n",
       "bathrooms        0\n",
       "sqft_living      0\n",
       "sqft_lot         0\n",
       "floors           0\n",
       "waterfront       0\n",
       "view             0\n",
       "condition        0\n",
       "sqft_above       0\n",
       "sqft_basement    0\n",
       "yr_built         0\n",
       "yr_renovated     0\n",
       "street           0\n",
       "city             0\n",
       "statezip         0\n",
       "country          0\n",
       "dtype: int64"
      ]
     },
     "execution_count": 12,
     "metadata": {},
     "output_type": "execute_result"
    }
   ],
   "source": [
    "house_price.isnull().sum()"
   ]
  },
  {
   "cell_type": "markdown",
   "id": "4333a721",
   "metadata": {},
   "source": [
    "we don't have any missing values"
   ]
  },
  {
   "cell_type": "markdown",
   "id": "5b44f1ed",
   "metadata": {},
   "source": [
    "### Handling Outliers"
   ]
  },
  {
   "cell_type": "code",
   "execution_count": 13,
   "id": "4c864c18",
   "metadata": {},
   "outputs": [
    {
     "name": "stderr",
     "output_type": "stream",
     "text": [
      "c:\\Users\\SEQBAL\\Anaconda3\\lib\\site-packages\\seaborn\\_decorators.py:36: FutureWarning: Pass the following variable as a keyword arg: x. From version 0.12, the only valid positional argument will be `data`, and passing other arguments without an explicit keyword will result in an error or misinterpretation.\n",
      "  warnings.warn(\n"
     ]
    },
    {
     "data": {
      "text/plain": [
       "<AxesSubplot:xlabel='price'>"
      ]
     },
     "execution_count": 13,
     "metadata": {},
     "output_type": "execute_result"
    },
    {
     "data": {
      "image/png": "[encoded data removed]",
      "text/plain": [
       "<Figure size 432x288 with 1 Axes>"
      ]
     },
     "metadata": {
      "needs_background": "light"
     },
     "output_type": "display_data"
    }
   ],
   "source": [
    "sns.boxplot(house_price['price'])"
   ]
  },
  {
   "cell_type": "code",
   "execution_count": 14,
   "id": "32f2f116",
   "metadata": {},
   "outputs": [
    {
     "data": {
      "text/plain": [
       "(4547, 18)"
      ]
     },
     "execution_count": 14,
     "metadata": {},
     "output_type": "execute_result"
    }
   ],
   "source": [
    "# Droping the Outliers of price column.\n",
    "house_price = house_price[~(house_price['price']>8000000)]\n",
    "house_price.shape"
   ]
  },
  {
   "cell_type": "code",
   "execution_count": 15,
   "id": "d983b23b",
   "metadata": {},
   "outputs": [
    {
     "name": "stderr",
     "output_type": "stream",
     "text": [
      "c:\\Users\\SEQBAL\\Anaconda3\\lib\\site-packages\\seaborn\\_decorators.py:36: FutureWarning: Pass the following variable as a keyword arg: x. From version 0.12, the only valid positional argument will be `data`, and passing other arguments without an explicit keyword will result in an error or misinterpretation.\n",
      "  warnings.warn(\n"
     ]
    },
    {
     "data": {
      "text/plain": [
       "<AxesSubplot:xlabel='bedrooms'>"
      ]
     },
     "execution_count": 15,
     "metadata": {},
     "output_type": "execute_result"
    },
    {
     "data": {
      "image/png": "[encoded data removed]",
      "text/plain": [
       "<Figure size 432x288 with 1 Axes>"
      ]
     },
     "metadata": {
      "needs_background": "light"
     },
     "output_type": "display_data"
    }
   ],
   "source": [
    "sns.boxplot(house_price['bedrooms'])"
   ]
  },
  {
   "cell_type": "code",
   "execution_count": 16,
   "id": "df808ee7",
   "metadata": {},
   "outputs": [
    {
     "name": "stderr",
     "output_type": "stream",
     "text": [
      "c:\\Users\\SEQBAL\\Anaconda3\\lib\\site-packages\\seaborn\\_decorators.py:36: FutureWarning: Pass the following variable as a keyword arg: x. From version 0.12, the only valid positional argument will be `data`, and passing other arguments without an explicit keyword will result in an error or misinterpretation.\n",
      "  warnings.warn(\n"
     ]
    },
    {
     "data": {
      "text/plain": [
       "<AxesSubplot:xlabel='bathrooms'>"
      ]
     },
     "execution_count": 16,
     "metadata": {},
     "output_type": "execute_result"
    },
    {
     "data": {
      "image/png": "[encoded data removed]",
      "text/plain": [
       "<Figure size 432x288 with 1 Axes>"
      ]
     },
     "metadata": {
      "needs_background": "light"
     },
     "output_type": "display_data"
    }
   ],
   "source": [
    "sns.boxplot(house_price['bathrooms'])"
   ]
  },
  {
   "cell_type": "code",
   "execution_count": 17,
   "id": "d02a06b7",
   "metadata": {},
   "outputs": [
    {
     "data": {
      "text/plain": [
       "(4546, 18)"
      ]
     },
     "execution_count": 17,
     "metadata": {},
     "output_type": "execute_result"
    }
   ],
   "source": [
    "# Droping the Outliers of bathrooms column \n",
    "house_price = house_price[~(house_price['bathrooms']>7)]\n",
    "house_price.shape"
   ]
  },
  {
   "cell_type": "code",
   "execution_count": 18,
   "id": "ac2d2385",
   "metadata": {},
   "outputs": [
    {
     "name": "stderr",
     "output_type": "stream",
     "text": [
      "c:\\Users\\SEQBAL\\Anaconda3\\lib\\site-packages\\seaborn\\_decorators.py:36: FutureWarning: Pass the following variable as a keyword arg: x. From version 0.12, the only valid positional argument will be `data`, and passing other arguments without an explicit keyword will result in an error or misinterpretation.\n",
      "  warnings.warn(\n"
     ]
    },
    {
     "data": {
      "text/plain": [
       "<AxesSubplot:xlabel='sqft_living'>"
      ]
     },
     "execution_count": 18,
     "metadata": {},
     "output_type": "execute_result"
    },
    {
     "data": {
      "image/png": "[encoded data removed]",
      "text/plain": [
       "<Figure size 432x288 with 1 Axes>"
      ]
     },
     "metadata": {
      "needs_background": "light"
     },
     "output_type": "display_data"
    }
   ],
   "source": [
    "sns.boxplot(house_price['sqft_living'])"
   ]
  },
  {
   "cell_type": "code",
   "execution_count": 19,
   "id": "7e66b0e9",
   "metadata": {},
   "outputs": [
    {
     "data": {
      "text/plain": [
       "(4543, 18)"
      ]
     },
     "execution_count": 19,
     "metadata": {},
     "output_type": "execute_result"
    }
   ],
   "source": [
    "# Droping the Outliers of sqft_living column \n",
    "house_price = house_price[~(house_price['sqft_living']>8000)]\n",
    "house_price.shape"
   ]
  },
  {
   "cell_type": "code",
   "execution_count": 20,
   "id": "e2edd48a",
   "metadata": {},
   "outputs": [
    {
     "name": "stderr",
     "output_type": "stream",
     "text": [
      "c:\\Users\\SEQBAL\\Anaconda3\\lib\\site-packages\\seaborn\\_decorators.py:36: FutureWarning: Pass the following variable as a keyword arg: x. From version 0.12, the only valid positional argument will be `data`, and passing other arguments without an explicit keyword will result in an error or misinterpretation.\n",
      "  warnings.warn(\n"
     ]
    },
    {
     "data": {
      "text/plain": [
       "<AxesSubplot:xlabel='sqft_lot'>"
      ]
     },
     "execution_count": 20,
     "metadata": {},
     "output_type": "execute_result"
    },
    {
     "data": {
      "image/png": "[encoded data removed]",
      "text/plain": [
       "<Figure size 432x288 with 1 Axes>"
      ]
     },
     "metadata": {
      "needs_background": "light"
     },
     "output_type": "display_data"
    }
   ],
   "source": [
    "sns.boxplot(house_price['sqft_lot'])"
   ]
  },
  {
   "cell_type": "code",
   "execution_count": 21,
   "id": "78ad98a2",
   "metadata": {},
   "outputs": [
    {
     "data": {
      "text/plain": [
       "(4541, 18)"
      ]
     },
     "execution_count": 21,
     "metadata": {},
     "output_type": "execute_result"
    }
   ],
   "source": [
    "# Droping the Outliers of sqft_lot column \n",
    "house_price = house_price[~(house_price['sqft_lot']>600000)]\n",
    "house_price.shape"
   ]
  },
  {
   "cell_type": "code",
   "execution_count": 22,
   "id": "6f67db4b",
   "metadata": {},
   "outputs": [
    {
     "name": "stderr",
     "output_type": "stream",
     "text": [
      "c:\\Users\\SEQBAL\\Anaconda3\\lib\\site-packages\\seaborn\\_decorators.py:36: FutureWarning: Pass the following variable as a keyword arg: x. From version 0.12, the only valid positional argument will be `data`, and passing other arguments without an explicit keyword will result in an error or misinterpretation.\n",
      "  warnings.warn(\n"
     ]
    },
    {
     "data": {
      "text/plain": [
       "<AxesSubplot:xlabel='floors'>"
      ]
     },
     "execution_count": 22,
     "metadata": {},
     "output_type": "execute_result"
    },
    {
     "data": {
      "image/png": "[encoded data removed]",
      "text/plain": [
       "<Figure size 432x288 with 1 Axes>"
      ]
     },
     "metadata": {
      "needs_background": "light"
     },
     "output_type": "display_data"
    }
   ],
   "source": [
    "sns.boxplot(house_price['floors'])"
   ]
  },
  {
   "cell_type": "code",
   "execution_count": 23,
   "id": "3008fea4",
   "metadata": {},
   "outputs": [
    {
     "name": "stderr",
     "output_type": "stream",
     "text": [
      "c:\\Users\\SEQBAL\\Anaconda3\\lib\\site-packages\\seaborn\\_decorators.py:36: FutureWarning: Pass the following variable as a keyword arg: x. From version 0.12, the only valid positional argument will be `data`, and passing other arguments without an explicit keyword will result in an error or misinterpretation.\n",
      "  warnings.warn(\n"
     ]
    },
    {
     "data": {
      "text/plain": [
       "<AxesSubplot:xlabel='sqft_above'>"
      ]
     },
     "execution_count": 23,
     "metadata": {},
     "output_type": "execute_result"
    },
    {
     "data": {
      "image/png": "[encoded data removed]",
      "text/plain": [
       "<Figure size 432x288 with 1 Axes>"
      ]
     },
     "metadata": {
      "needs_background": "light"
     },
     "output_type": "display_data"
    }
   ],
   "source": [
    "sns.boxplot(house_price['sqft_above'])"
   ]
  },
  {
   "cell_type": "code",
   "execution_count": 24,
   "id": "e1076c29",
   "metadata": {},
   "outputs": [
    {
     "data": {
      "text/plain": [
       "(4540, 18)"
      ]
     },
     "execution_count": 24,
     "metadata": {},
     "output_type": "execute_result"
    }
   ],
   "source": [
    "# Droping the Outliers of sqft_above column \n",
    "house_price = house_price[~(house_price['sqft_above']>7000)]\n",
    "house_price.shape"
   ]
  },
  {
   "cell_type": "code",
   "execution_count": 25,
   "id": "2167319f",
   "metadata": {},
   "outputs": [
    {
     "name": "stderr",
     "output_type": "stream",
     "text": [
      "c:\\Users\\SEQBAL\\Anaconda3\\lib\\site-packages\\seaborn\\_decorators.py:36: FutureWarning: Pass the following variable as a keyword arg: x. From version 0.12, the only valid positional argument will be `data`, and passing other arguments without an explicit keyword will result in an error or misinterpretation.\n",
      "  warnings.warn(\n"
     ]
    },
    {
     "data": {
      "text/plain": [
       "<AxesSubplot:xlabel='sqft_basement'>"
      ]
     },
     "execution_count": 25,
     "metadata": {},
     "output_type": "execute_result"
    },
    {
     "data": {
      "image/png": "[encoded data removed]",
      "text/plain": [
       "<Figure size 432x288 with 1 Axes>"
      ]
     },
     "metadata": {
      "needs_background": "light"
     },
     "output_type": "display_data"
    }
   ],
   "source": [
    "sns.boxplot(house_price['sqft_basement'])"
   ]
  },
  {
   "cell_type": "code",
   "execution_count": 26,
   "id": "05232877",
   "metadata": {},
   "outputs": [
    {
     "data": {
      "text/plain": [
       "(4540, 18)"
      ]
     },
     "execution_count": 26,
     "metadata": {},
     "output_type": "execute_result"
    }
   ],
   "source": [
    "# Droping the Outliers of sqft_basement column \n",
    "house_price = house_price[~(house_price['sqft_basement']>4000)]\n",
    "house_price.shape"
   ]
  },
  {
   "cell_type": "markdown",
   "id": "d873fda1",
   "metadata": {},
   "source": [
    "### Handling Categorical Values"
   ]
  },
  {
   "cell_type": "code",
   "execution_count": 27,
   "id": "0fc6e0dc",
   "metadata": {},
   "outputs": [
    {
     "name": "stdout",
     "output_type": "stream",
     "text": [
      "Index(['date', 'street', 'city', 'statezip', 'country'], dtype='object')\n"
     ]
    },
    {
     "data": {
      "text/html": [
       "<div>\n",
       "<style scoped>\n",
       "    .dataframe tbody tr th:only-of-type {\n",
       "        vertical-align: middle;\n",
       "    }\n",
       "\n",
       "    .dataframe tbody tr th {\n",
       "        vertical-align: top;\n",
       "    }\n",
       "\n",
       "    .dataframe thead th {\n",
       "        text-align: right;\n",
       "    }\n",
       "</style>\n",
       "<table border=\"1\" class=\"dataframe\">\n",
       "  <thead>\n",
       "    <tr style=\"text-align: right;\">\n",
       "      <th></th>\n",
       "      <th>date</th>\n",
       "      <th>street</th>\n",
       "      <th>city</th>\n",
       "      <th>statezip</th>\n",
       "      <th>country</th>\n",
       "    </tr>\n",
       "  </thead>\n",
       "  <tbody>\n",
       "    <tr>\n",
       "      <th>count</th>\n",
       "      <td>4540</td>\n",
       "      <td>4540</td>\n",
       "      <td>4540</td>\n",
       "      <td>4540</td>\n",
       "      <td>4540</td>\n",
       "    </tr>\n",
       "    <tr>\n",
       "      <th>unique</th>\n",
       "      <td>70</td>\n",
       "      <td>4465</td>\n",
       "      <td>44</td>\n",
       "      <td>77</td>\n",
       "      <td>1</td>\n",
       "    </tr>\n",
       "    <tr>\n",
       "      <th>top</th>\n",
       "      <td>2014-06-23 00:00:00</td>\n",
       "      <td>2520 Mulberry Walk NE</td>\n",
       "      <td>Seattle</td>\n",
       "      <td>WA 98103</td>\n",
       "      <td>USA</td>\n",
       "    </tr>\n",
       "    <tr>\n",
       "      <th>freq</th>\n",
       "      <td>140</td>\n",
       "      <td>4</td>\n",
       "      <td>1558</td>\n",
       "      <td>148</td>\n",
       "      <td>4540</td>\n",
       "    </tr>\n",
       "  </tbody>\n",
       "</table>\n",
       "</div>"
      ],
      "text/plain": [
       "                       date                 street     city  statezip country\n",
       "count                  4540                   4540     4540      4540    4540\n",
       "unique                   70                   4465       44        77       1\n",
       "top     2014-06-23 00:00:00  2520 Mulberry Walk NE  Seattle  WA 98103     USA\n",
       "freq                    140                      4     1558       148    4540"
      ]
     },
     "execution_count": 27,
     "metadata": {},
     "output_type": "execute_result"
    }
   ],
   "source": [
    "categorical = house_price.dtypes[house_price.dtypes == 'object'].index\n",
    "print(categorical)\n",
    "\n",
    "house_price[categorical].describe()"
   ]
  },
  {
   "cell_type": "code",
   "execution_count": 28,
   "id": "a554c385",
   "metadata": {},
   "outputs": [],
   "source": [
    "# According to analysis, we don't need of year, street and country columns. So, droping them\n",
    "house_price.drop(['date','street','country'], axis=1, inplace=True)"
   ]
  },
  {
   "cell_type": "code",
   "execution_count": 29,
   "id": "fcc49594",
   "metadata": {},
   "outputs": [
    {
     "data": {
      "text/html": [
       "<div>\n",
       "<style scoped>\n",
       "    .dataframe tbody tr th:only-of-type {\n",
       "        vertical-align: middle;\n",
       "    }\n",
       "\n",
       "    .dataframe tbody tr th {\n",
       "        vertical-align: top;\n",
       "    }\n",
       "\n",
       "    .dataframe thead th {\n",
       "        text-align: right;\n",
       "    }\n",
       "</style>\n",
       "<table border=\"1\" class=\"dataframe\">\n",
       "  <thead>\n",
       "    <tr style=\"text-align: right;\">\n",
       "      <th></th>\n",
       "      <th>price</th>\n",
       "      <th>bedrooms</th>\n",
       "      <th>bathrooms</th>\n",
       "      <th>sqft_living</th>\n",
       "      <th>sqft_lot</th>\n",
       "      <th>floors</th>\n",
       "      <th>waterfront</th>\n",
       "      <th>view</th>\n",
       "      <th>condition</th>\n",
       "      <th>sqft_above</th>\n",
       "      <th>sqft_basement</th>\n",
       "      <th>yr_built</th>\n",
       "      <th>yr_renovated</th>\n",
       "      <th>city</th>\n",
       "      <th>statezip</th>\n",
       "    </tr>\n",
       "  </thead>\n",
       "  <tbody>\n",
       "    <tr>\n",
       "      <th>0</th>\n",
       "      <td>313000.0</td>\n",
       "      <td>3.0</td>\n",
       "      <td>1.50</td>\n",
       "      <td>1340</td>\n",
       "      <td>7912</td>\n",
       "      <td>1.5</td>\n",
       "      <td>0</td>\n",
       "      <td>0</td>\n",
       "      <td>3</td>\n",
       "      <td>1340</td>\n",
       "      <td>0</td>\n",
       "      <td>1955</td>\n",
       "      <td>2005</td>\n",
       "      <td>Shoreline</td>\n",
       "      <td>WA 98133</td>\n",
       "    </tr>\n",
       "    <tr>\n",
       "      <th>1</th>\n",
       "      <td>2384000.0</td>\n",
       "      <td>5.0</td>\n",
       "      <td>2.50</td>\n",
       "      <td>3650</td>\n",
       "      <td>9050</td>\n",
       "      <td>2.0</td>\n",
       "      <td>0</td>\n",
       "      <td>4</td>\n",
       "      <td>5</td>\n",
       "      <td>3370</td>\n",
       "      <td>280</td>\n",
       "      <td>1921</td>\n",
       "      <td>0</td>\n",
       "      <td>Seattle</td>\n",
       "      <td>WA 98119</td>\n",
       "    </tr>\n",
       "    <tr>\n",
       "      <th>2</th>\n",
       "      <td>342000.0</td>\n",
       "      <td>3.0</td>\n",
       "      <td>2.00</td>\n",
       "      <td>1930</td>\n",
       "      <td>11947</td>\n",
       "      <td>1.0</td>\n",
       "      <td>0</td>\n",
       "      <td>0</td>\n",
       "      <td>4</td>\n",
       "      <td>1930</td>\n",
       "      <td>0</td>\n",
       "      <td>1966</td>\n",
       "      <td>0</td>\n",
       "      <td>Kent</td>\n",
       "      <td>WA 98042</td>\n",
       "    </tr>\n",
       "    <tr>\n",
       "      <th>3</th>\n",
       "      <td>420000.0</td>\n",
       "      <td>3.0</td>\n",
       "      <td>2.25</td>\n",
       "      <td>2000</td>\n",
       "      <td>8030</td>\n",
       "      <td>1.0</td>\n",
       "      <td>0</td>\n",
       "      <td>0</td>\n",
       "      <td>4</td>\n",
       "      <td>1000</td>\n",
       "      <td>1000</td>\n",
       "      <td>1963</td>\n",
       "      <td>0</td>\n",
       "      <td>Bellevue</td>\n",
       "      <td>WA 98008</td>\n",
       "    </tr>\n",
       "    <tr>\n",
       "      <th>4</th>\n",
       "      <td>550000.0</td>\n",
       "      <td>4.0</td>\n",
       "      <td>2.50</td>\n",
       "      <td>1940</td>\n",
       "      <td>10500</td>\n",
       "      <td>1.0</td>\n",
       "      <td>0</td>\n",
       "      <td>0</td>\n",
       "      <td>4</td>\n",
       "      <td>1140</td>\n",
       "      <td>800</td>\n",
       "      <td>1976</td>\n",
       "      <td>1992</td>\n",
       "      <td>Redmond</td>\n",
       "      <td>WA 98052</td>\n",
       "    </tr>\n",
       "  </tbody>\n",
       "</table>\n",
       "</div>"
      ],
      "text/plain": [
       "       price  bedrooms  bathrooms  sqft_living  sqft_lot  floors  waterfront  \\\n",
       "0   313000.0       3.0       1.50         1340      7912     1.5           0   \n",
       "1  2384000.0       5.0       2.50         3650      9050     2.0           0   \n",
       "2   342000.0       3.0       2.00         1930     11947     1.0           0   \n",
       "3   420000.0       3.0       2.25         2000      8030     1.0           0   \n",
       "4   550000.0       4.0       2.50         1940     10500     1.0           0   \n",
       "\n",
       "   view  condition  sqft_above  sqft_basement  yr_built  yr_renovated  \\\n",
       "0     0          3        1340              0      1955          2005   \n",
       "1     4          5        3370            280      1921             0   \n",
       "2     0          4        1930              0      1966             0   \n",
       "3     0          4        1000           1000      1963             0   \n",
       "4     0          4        1140            800      1976          1992   \n",
       "\n",
       "        city  statezip  \n",
       "0  Shoreline  WA 98133  \n",
       "1    Seattle  WA 98119  \n",
       "2       Kent  WA 98042  \n",
       "3   Bellevue  WA 98008  \n",
       "4    Redmond  WA 98052  "
      ]
     },
     "execution_count": 29,
     "metadata": {},
     "output_type": "execute_result"
    }
   ],
   "source": [
    "house_price.head()"
   ]
  },
  {
   "cell_type": "markdown",
   "id": "8b7ba6f2",
   "metadata": {},
   "source": [
    "### Feature Selection and Engineering"
   ]
  },
  {
   "cell_type": "code",
   "execution_count": 30,
   "id": "e6954274",
   "metadata": {},
   "outputs": [
    {
     "data": {
      "text/plain": [
       "<AxesSubplot:>"
      ]
     },
     "execution_count": 30,
     "metadata": {},
     "output_type": "execute_result"
    },
    {
     "data": {
      "image/png": "[encoded data removed]",
      "text/plain": [
       "<Figure size 360x360 with 1 Axes>"
      ]
     },
     "metadata": {
      "needs_background": "light"
     },
     "output_type": "display_data"
    }
   ],
   "source": [
    "plt.figure(figsize=(5,5))\n",
    "corr_feat_series = pd.Series.sort_values(house_price.corrwith(house_price.price))\n",
    "sns.barplot(x = corr_feat_series, y =corr_feat_series.index, orient ='h')"
   ]
  },
  {
   "cell_type": "code",
   "execution_count": 31,
   "id": "d12b697a",
   "metadata": {},
   "outputs": [],
   "source": [
    "# According to analysis, 'yr_built' and 'yr_renovated' have less correlation with price column. So, droping them\n",
    "house_price.drop(['yr_built','yr_renovated'], axis=1, inplace=True)"
   ]
  },
  {
   "cell_type": "code",
   "execution_count": 32,
   "id": "4ee26eb5",
   "metadata": {},
   "outputs": [
    {
     "data": {
      "text/plain": [
       "Seattle                1558\n",
       "Renton                  290\n",
       "Bellevue                280\n",
       "Redmond                 233\n",
       "Kirkland                187\n",
       "Issaquah                185\n",
       "Kent                    183\n",
       "Auburn                  175\n",
       "Sammamish               171\n",
       "Federal Way             145\n",
       "Shoreline               123\n",
       "Woodinville             114\n",
       "Maple Valley             95\n",
       "Mercer Island            81\n",
       "Burien                   72\n",
       "Snoqualmie               69\n",
       "Kenmore                  65\n",
       "Des Moines               58\n",
       "North Bend               50\n",
       "Duvall                   42\n",
       "Covington                42\n",
       "Lake Forest Park         34\n",
       "Bothell                  33\n",
       "Newcastle                33\n",
       "Tukwila                  29\n",
       "Vashon                   28\n",
       "SeaTac                   28\n",
       "Enumclaw                 27\n",
       "Carnation                22\n",
       "Normandy Park            17\n",
       "Fall City                11\n",
       "Medina                   11\n",
       "Clyde Hill                9\n",
       "Black Diamond             8\n",
       "Ravensdale                7\n",
       "Pacific                   6\n",
       "Algona                    5\n",
       "Yarrow Point              4\n",
       "Skykomish                 3\n",
       "Preston                   2\n",
       "Milton                    2\n",
       "Inglewood-Finn Hill       1\n",
       "Snoqualmie Pass           1\n",
       "Beaux Arts Village        1\n",
       "Name: city, dtype: int64"
      ]
     },
     "execution_count": 32,
     "metadata": {},
     "output_type": "execute_result"
    }
   ],
   "source": [
    "house_price['city'].value_counts()"
   ]
  },
  {
   "cell_type": "code",
   "execution_count": 33,
   "id": "2db61566",
   "metadata": {},
   "outputs": [
    {
     "data": {
      "text/plain": [
       "4540"
      ]
     },
     "execution_count": 33,
     "metadata": {},
     "output_type": "execute_result"
    }
   ],
   "source": [
    "house_price['city'] = house_price['city'].apply(lambda x: x.strip())\n",
    "len(house_price['city'])"
   ]
  },
  {
   "cell_type": "code",
   "execution_count": 34,
   "id": "0b53bbeb",
   "metadata": {},
   "outputs": [],
   "source": [
    "city_count = house_price['city'].value_counts()"
   ]
  },
  {
   "cell_type": "code",
   "execution_count": 35,
   "id": "367a0481",
   "metadata": {},
   "outputs": [],
   "source": [
    "city_count_less_150 = city_count[city_count < 150]"
   ]
  },
  {
   "cell_type": "code",
   "execution_count": 36,
   "id": "af12004b",
   "metadata": {},
   "outputs": [],
   "source": [
    "house_price['city'] = house_price['city'].apply(lambda x: 'Other' if x in city_count_less_150 else x)"
   ]
  },
  {
   "cell_type": "code",
   "execution_count": 37,
   "id": "94efbf69",
   "metadata": {},
   "outputs": [
    {
     "data": {
      "text/plain": [
       "Seattle      1558\n",
       "Other        1278\n",
       "Renton        290\n",
       "Bellevue      280\n",
       "Redmond       233\n",
       "Kirkland      187\n",
       "Issaquah      185\n",
       "Kent          183\n",
       "Auburn        175\n",
       "Sammamish     171\n",
       "Name: city, dtype: int64"
      ]
     },
     "execution_count": 37,
     "metadata": {},
     "output_type": "execute_result"
    }
   ],
   "source": [
    "house_price['city'].value_counts()"
   ]
  },
  {
   "cell_type": "code",
   "execution_count": 38,
   "id": "298d4896",
   "metadata": {},
   "outputs": [],
   "source": [
    "# Treating 'statezip' column and extracting the numeric code only\n",
    "house_price['statezip'] = house_price['statezip'].str.split().str[1]"
   ]
  },
  {
   "cell_type": "code",
   "execution_count": 39,
   "id": "d5aca9c0",
   "metadata": {},
   "outputs": [],
   "source": [
    "# Applying Label encoding on independent variables\n",
    "from sklearn.preprocessing import LabelEncoder\n",
    "label_encoder = LabelEncoder()\n",
    "\n",
    "house_price['price'] = label_encoder.fit_transform(house_price['price'])\n",
    "house_price['city'] = label_encoder.fit_transform(house_price['city'])\n",
    "house_price['statezip'] = label_encoder.fit_transform(house_price['statezip'])"
   ]
  },
  {
   "cell_type": "code",
   "execution_count": 40,
   "id": "536ddd1e",
   "metadata": {},
   "outputs": [
    {
     "data": {
      "text/plain": [
       "9    1558\n",
       "5    1278\n",
       "7     290\n",
       "1     280\n",
       "6     233\n",
       "4     187\n",
       "2     185\n",
       "3     183\n",
       "0     175\n",
       "8     171\n",
       "Name: city, dtype: int64"
      ]
     },
     "execution_count": 40,
     "metadata": {},
     "output_type": "execute_result"
    }
   ],
   "source": [
    "house_price['city'].value_counts()"
   ]
  },
  {
   "cell_type": "code",
   "execution_count": 41,
   "id": "e1ab8ab3",
   "metadata": {},
   "outputs": [
    {
     "name": "stdout",
     "output_type": "stream",
     "text": [
      "<class 'pandas.core.frame.DataFrame'>\n",
      "Int64Index: 4540 entries, 0 to 4599\n",
      "Data columns (total 13 columns):\n",
      " #   Column         Non-Null Count  Dtype  \n",
      "---  ------         --------------  -----  \n",
      " 0   price          4540 non-null   int64  \n",
      " 1   bedrooms       4540 non-null   float64\n",
      " 2   bathrooms      4540 non-null   float64\n",
      " 3   sqft_living    4540 non-null   int64  \n",
      " 4   sqft_lot       4540 non-null   int64  \n",
      " 5   floors         4540 non-null   float64\n",
      " 6   waterfront     4540 non-null   int64  \n",
      " 7   view           4540 non-null   int64  \n",
      " 8   condition      4540 non-null   int64  \n",
      " 9   sqft_above     4540 non-null   int64  \n",
      " 10  sqft_basement  4540 non-null   int64  \n",
      " 11  city           4540 non-null   int32  \n",
      " 12  statezip       4540 non-null   int32  \n",
      "dtypes: float64(3), int32(2), int64(8)\n",
      "memory usage: 461.1 KB\n"
     ]
    }
   ],
   "source": [
    "# Getting some information about the dataset\n",
    "house_price.info()"
   ]
  },
  {
   "cell_type": "markdown",
   "id": "26b157a4",
   "metadata": {},
   "source": [
    "Now, we got all the features in numerical format"
   ]
  },
  {
   "cell_type": "markdown",
   "id": "c27a65d4",
   "metadata": {},
   "source": [
    "### Splitting the dependent and independent features"
   ]
  },
  {
   "cell_type": "code",
   "execution_count": 42,
   "id": "9f8f4b0f",
   "metadata": {},
   "outputs": [
    {
     "name": "stdout",
     "output_type": "stream",
     "text": [
      "      bedrooms  bathrooms  sqft_living  sqft_lot  floors  waterfront  view  \\\n",
      "0          3.0       1.50         1340      7912     1.5           0     0   \n",
      "1          5.0       2.50         3650      9050     2.0           0     4   \n",
      "2          3.0       2.00         1930     11947     1.0           0     0   \n",
      "3          3.0       2.25         2000      8030     1.0           0     0   \n",
      "4          4.0       2.50         1940     10500     1.0           0     0   \n",
      "...        ...        ...          ...       ...     ...         ...   ...   \n",
      "4595       3.0       1.75         1510      6360     1.0           0     0   \n",
      "4596       3.0       2.50         1460      7573     2.0           0     0   \n",
      "4597       3.0       2.50         3010      7014     2.0           0     0   \n",
      "4598       4.0       2.00         2090      6630     1.0           0     0   \n",
      "4599       3.0       2.50         1490      8102     2.0           0     0   \n",
      "\n",
      "      condition  sqft_above  sqft_basement  city  statezip  \n",
      "0             3        1340              0     5        62  \n",
      "1             5        3370            280     9        58  \n",
      "2             4        1930              0     3        26  \n",
      "3             4        1000           1000     1         7  \n",
      "4             4        1140            800     6        31  \n",
      "...         ...         ...            ...   ...       ...  \n",
      "4595          4        1510              0     9        62  \n",
      "4596          3        1460              0     1         6  \n",
      "4597          3        3010              0     7        37  \n",
      "4598          3        1070           1020     9        71  \n",
      "4599          4        1490              0     5        26  \n",
      "\n",
      "[4540 rows x 12 columns] \n",
      " 0        401\n",
      "1       1714\n",
      "2        486\n",
      "3        705\n",
      "4        997\n",
      "        ... \n",
      "4595     383\n",
      "4596     960\n",
      "4597     694\n",
      "4598     109\n",
      "4599     141\n",
      "Name: price, Length: 4540, dtype: int64\n"
     ]
    }
   ],
   "source": [
    "X = house_price.drop(['price'],axis=1)\n",
    "Y = house_price['price']\n",
    "print(X,'\\n',Y)"
   ]
  },
  {
   "cell_type": "markdown",
   "id": "4b36d796",
   "metadata": {},
   "source": [
    "### Splitting Training and Test data"
   ]
  },
  {
   "cell_type": "code",
   "execution_count": 43,
   "id": "a6b1ad2e",
   "metadata": {},
   "outputs": [
    {
     "name": "stdout",
     "output_type": "stream",
     "text": [
      "x train:  (3178, 12)\n",
      "x test:  (1362, 12)\n",
      "y train:  (3178,)\n",
      "y test:  (1362,)\n"
     ]
    }
   ],
   "source": [
    "from sklearn.model_selection import train_test_split\n",
    "\n",
    "X_train, X_test, Y_train, Y_test = train_test_split(X, Y, test_size = 0.3, random_state=42)\n",
    "print(\"x train: \",X_train.shape)\n",
    "print(\"x test: \",X_test.shape)\n",
    "print(\"y train: \",Y_train.shape)\n",
    "print(\"y test: \",Y_test.shape)"
   ]
  },
  {
   "cell_type": "markdown",
   "id": "6485a339",
   "metadata": {},
   "source": [
    "### Feature Scaling "
   ]
  },
  {
   "cell_type": "code",
   "execution_count": 44,
   "id": "2018f26b",
   "metadata": {},
   "outputs": [],
   "source": [
    "from sklearn.preprocessing import MinMaxScaler\n",
    "msc = MinMaxScaler()\n",
    "\n",
    "X_train = msc.fit_transform(X_train)\n",
    "X_test = msc.transform(X_test)"
   ]
  },
  {
   "cell_type": "code",
   "execution_count": 45,
   "id": "88a6f284",
   "metadata": {},
   "outputs": [
    {
     "data": {
      "text/plain": [
       "array([[0.42857143, 0.26315789, 0.21625767, 0.00337486, 0.        ,\n",
       "        0.        , 0.5       , 0.75      , 0.07348243, 0.33333333,\n",
       "        1.        , 0.61842105],\n",
       "       [0.28571429, 0.21052632, 0.21319018, 0.0682215 , 0.        ,\n",
       "        0.        , 0.        , 0.75      , 0.22204473, 0.        ,\n",
       "        0.        , 0.59210526]])"
      ]
     },
     "execution_count": 45,
     "metadata": {},
     "output_type": "execute_result"
    }
   ],
   "source": [
    "X_train[:2,:]"
   ]
  },
  {
   "cell_type": "code",
   "execution_count": 46,
   "id": "4a84d005",
   "metadata": {},
   "outputs": [
    {
     "data": {
      "text/plain": [
       "array([[0.42857143, 0.42105263, 0.34355828, 0.01126557, 0.4       ,\n",
       "        0.        , 0.        , 0.5       , 0.35782748, 0.        ,\n",
       "        0.55555556, 0.35526316],\n",
       "       [0.28571429, 0.21052632, 0.2208589 , 0.04539307, 0.        ,\n",
       "        0.        , 0.        , 0.5       , 0.13897764, 0.2       ,\n",
       "        0.66666667, 0.42105263]])"
      ]
     },
     "execution_count": 46,
     "metadata": {},
     "output_type": "execute_result"
    }
   ],
   "source": [
    "X_test[:2,:]"
   ]
  },
  {
   "cell_type": "markdown",
   "id": "c0534198",
   "metadata": {},
   "source": [
    "### Cross Validation"
   ]
  },
  {
   "cell_type": "code",
   "execution_count": 47,
   "id": "527e980f",
   "metadata": {},
   "outputs": [],
   "source": [
    "from sklearn.svm import SVR\n",
    "from sklearn.linear_model import LinearRegression\n",
    "from sklearn.ensemble import RandomForestRegressor\n",
    "from sklearn.ensemble import GradientBoostingRegressor\n",
    "\n",
    "models = [SVR(),LinearRegression(),RandomForestRegressor(),GradientBoostingRegressor()]"
   ]
  },
  {
   "cell_type": "code",
   "execution_count": 48,
   "id": "99cb343c",
   "metadata": {},
   "outputs": [],
   "source": [
    "# Cross-Validation\n",
    "from sklearn.model_selection import KFold, cross_val_score\n",
    "from sklearn.metrics import make_scorer, r2_score\n",
    "\n",
    "def test_model(model, X_train, Y_train):\n",
    "    cv = KFold(n_splits=4, shuffle=True, random_state=42)\n",
    "    r2 = make_scorer(r2_score)\n",
    "    score_list = cross_val_score(model, X_train, Y_train, cv = cv, scoring = r2)\n",
    "    score = score_list.mean()\n",
    "    return score"
   ]
  },
  {
   "cell_type": "code",
   "execution_count": 49,
   "id": "fd5d0254",
   "metadata": {},
   "outputs": [
    {
     "name": "stdout",
     "output_type": "stream",
     "text": [
      "Training Model:  SVR()\n",
      "Score of Models 0.17798625922159764\n",
      "\n",
      "\n",
      "Training Model:  LinearRegression()\n",
      "Score of Models 0.5073547443864359\n",
      "\n",
      "\n",
      "Training Model:  RandomForestRegressor()\n",
      "Score of Models 0.7416847999606895\n",
      "\n",
      "\n",
      "Training Model:  GradientBoostingRegressor()\n",
      "Score of Models 0.7519504769073513\n",
      "\n",
      "\n"
     ]
    }
   ],
   "source": [
    "for model in models:\n",
    "    print('Training Model: ', model)\n",
    "    score = test_model(model, X_train, Y_train)\n",
    "    print(\"Score of Models\", score)\n",
    "    print('\\n')"
   ]
  },
  {
   "cell_type": "markdown",
   "id": "849cb01f",
   "metadata": {},
   "source": [
    "From the above analysis, we can conclude that GradientBoostingRegressor gives more best result out of four algorithms. So, choosing GradientBoostingRegressor for my final deployment."
   ]
  },
  {
   "cell_type": "markdown",
   "id": "58b8152f",
   "metadata": {},
   "source": [
    "### Model Training "
   ]
  },
  {
   "cell_type": "markdown",
   "id": "09f58009",
   "metadata": {},
   "source": [
    "##### GradientBoostingRegressor"
   ]
  },
  {
   "cell_type": "code",
   "execution_count": 50,
   "id": "75d9d9ad",
   "metadata": {},
   "outputs": [
    {
     "data": {
      "text/plain": [
       "GradientBoostingRegressor()"
      ]
     },
     "execution_count": 50,
     "metadata": {},
     "output_type": "execute_result"
    }
   ],
   "source": [
    "gb = GradientBoostingRegressor()\n",
    "gb.fit(X_train,Y_train)"
   ]
  },
  {
   "cell_type": "markdown",
   "id": "3ee43308",
   "metadata": {},
   "source": [
    "### Prediction on Trained data"
   ]
  },
  {
   "cell_type": "code",
   "execution_count": 51,
   "id": "51472c6a",
   "metadata": {},
   "outputs": [],
   "source": [
    "y_train_pred = gb.predict(X_train)"
   ]
  },
  {
   "cell_type": "markdown",
   "id": "53770cc2",
   "metadata": {},
   "source": [
    "### Evaluating the Algorithm on Trained data"
   ]
  },
  {
   "cell_type": "code",
   "execution_count": 52,
   "id": "38ebaf3c",
   "metadata": {},
   "outputs": [
    {
     "data": {
      "text/plain": [
       "0.796303099663031"
      ]
     },
     "execution_count": 52,
     "metadata": {},
     "output_type": "execute_result"
    }
   ],
   "source": [
    "score_train = metrics.r2_score(Y_train,y_train_pred)\n",
    "score_train"
   ]
  },
  {
   "cell_type": "markdown",
   "id": "02928da7",
   "metadata": {},
   "source": [
    "### Prediction on Test data"
   ]
  },
  {
   "cell_type": "code",
   "execution_count": 53,
   "id": "3b209e96",
   "metadata": {},
   "outputs": [],
   "source": [
    "y_test_pred = gb.predict(X_test)"
   ]
  },
  {
   "cell_type": "markdown",
   "id": "100f8524",
   "metadata": {},
   "source": [
    "### Evaluating the Algorithm on Test data"
   ]
  },
  {
   "cell_type": "code",
   "execution_count": 54,
   "id": "151b106a",
   "metadata": {},
   "outputs": [
    {
     "data": {
      "text/plain": [
       "0.7646431828175815"
      ]
     },
     "execution_count": 54,
     "metadata": {},
     "output_type": "execute_result"
    }
   ],
   "source": [
    "score_test = metrics.r2_score(Y_test,y_test_pred)\n",
    "score_test"
   ]
  },
  {
   "cell_type": "markdown",
   "id": "6e375e79",
   "metadata": {},
   "source": [
    "### Model Deployment "
   ]
  },
  {
   "cell_type": "code",
   "execution_count": 55,
   "id": "31a4a139",
   "metadata": {},
   "outputs": [],
   "source": [
    "import pickle \n",
    "pickle.dump(gb,open(\"model.pkl\", 'wb'))"
   ]
  },
  {
   "cell_type": "code",
   "execution_count": null,
   "id": "4684acb4",
   "metadata": {},
   "outputs": [],
   "source": []
  }
 ],
 "metadata": {
  "kernelspec": {
   "display_name": "Python 3 (ipykernel)",
   "language": "python",
   "name": "python3"
  },
  "language_info": {
   "codemirror_mode": {
    "name": "ipython",
    "version": 3
   },
   "file_extension": ".py",
   "mimetype": "text/x-python",
   "name": "python",
   "nbconvert_exporter": "python",
   "pygments_lexer": "ipython3",
   "version": "3.9.12"
  }
 },
 "nbformat": 4,
 "nbformat_minor": 5
}
